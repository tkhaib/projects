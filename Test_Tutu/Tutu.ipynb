{
 "cells": [
  {
   "cell_type": "markdown",
   "id": "b2b0377c-f3d1-4a9e-8196-101c3e27c0ab",
   "metadata": {},
   "source": [
    "### Load data"
   ]
  },
  {
   "cell_type": "code",
   "execution_count": 1,
   "id": "2d4efbe1-c40a-401a-ac7c-f88dc6fd6179",
   "metadata": {},
   "outputs": [
    {
     "data": {
      "text/html": [
       "<div>\n",
       "<style scoped>\n",
       "    .dataframe tbody tr th:only-of-type {\n",
       "        vertical-align: middle;\n",
       "    }\n",
       "\n",
       "    .dataframe tbody tr th {\n",
       "        vertical-align: top;\n",
       "    }\n",
       "\n",
       "    .dataframe thead th {\n",
       "        text-align: right;\n",
       "    }\n",
       "</style>\n",
       "<table border=\"1\" class=\"dataframe\">\n",
       "  <thead>\n",
       "    <tr style=\"text-align: right;\">\n",
       "      <th></th>\n",
       "      <th>order_id</th>\n",
       "      <th>page_id</th>\n",
       "      <th>product</th>\n",
       "      <th>site_version</th>\n",
       "      <th>time</th>\n",
       "      <th>title</th>\n",
       "      <th>user</th>\n",
       "    </tr>\n",
       "  </thead>\n",
       "  <tbody>\n",
       "    <tr>\n",
       "      <th>0</th>\n",
       "      <td>NaN</td>\n",
       "      <td>3.0</td>\n",
       "      <td>company</td>\n",
       "      <td>mobile</td>\n",
       "      <td>2017-02-09 20:24:04</td>\n",
       "      <td>banner_show</td>\n",
       "      <td>user_0</td>\n",
       "    </tr>\n",
       "    <tr>\n",
       "      <th>1</th>\n",
       "      <td>NaN</td>\n",
       "      <td>3699687.0</td>\n",
       "      <td>company</td>\n",
       "      <td>mobile</td>\n",
       "      <td>2017-02-07 10:03:07</td>\n",
       "      <td>banner_show</td>\n",
       "      <td>user_0</td>\n",
       "    </tr>\n",
       "    <tr>\n",
       "      <th>2</th>\n",
       "      <td>NaN</td>\n",
       "      <td>14.0</td>\n",
       "      <td>sneakers</td>\n",
       "      <td>mobile</td>\n",
       "      <td>2017-01-29 13:02:23</td>\n",
       "      <td>banner_show</td>\n",
       "      <td>user_1</td>\n",
       "    </tr>\n",
       "    <tr>\n",
       "      <th>3</th>\n",
       "      <td>NaN</td>\n",
       "      <td>10362176.0</td>\n",
       "      <td>company</td>\n",
       "      <td>mobile</td>\n",
       "      <td>2017-04-12 15:39:19</td>\n",
       "      <td>banner_show</td>\n",
       "      <td>user_1</td>\n",
       "    </tr>\n",
       "    <tr>\n",
       "      <th>4</th>\n",
       "      <td>NaN</td>\n",
       "      <td>14.0</td>\n",
       "      <td>sneakers</td>\n",
       "      <td>mobile</td>\n",
       "      <td>2017-01-29 13:04:42</td>\n",
       "      <td>banner_click</td>\n",
       "      <td>user_1</td>\n",
       "    </tr>\n",
       "  </tbody>\n",
       "</table>\n",
       "</div>"
      ],
      "text/plain": [
       "   order_id     page_id   product site_version                time  \\\n",
       "0       NaN         3.0   company       mobile 2017-02-09 20:24:04   \n",
       "1       NaN   3699687.0   company       mobile 2017-02-07 10:03:07   \n",
       "2       NaN        14.0  sneakers       mobile 2017-01-29 13:02:23   \n",
       "3       NaN  10362176.0   company       mobile 2017-04-12 15:39:19   \n",
       "4       NaN        14.0  sneakers       mobile 2017-01-29 13:04:42   \n",
       "\n",
       "          title    user  \n",
       "0   banner_show  user_0  \n",
       "1   banner_show  user_0  \n",
       "2   banner_show  user_1  \n",
       "3   banner_show  user_1  \n",
       "4  banner_click  user_1  "
      ]
     },
     "execution_count": 1,
     "metadata": {},
     "output_type": "execute_result"
    }
   ],
   "source": [
    "import pandas as pd\n",
    "import numpy as np \n",
    "import warnings\n",
    "warnings.filterwarnings(\"ignore\") \n",
    "df = pd.read_csv('ha_data.csv', sep=';')\n",
    "df['time'] = pd.to_datetime(df['time'])\n",
    "df.head(5)"
   ]
  },
  {
   "cell_type": "code",
   "execution_count": 2,
   "id": "12304b90-8bc5-4eb3-9db5-ed0098fe02dd",
   "metadata": {},
   "outputs": [
    {
     "name": "stdout",
     "output_type": "stream",
     "text": [
      "150 days 23:59:55\n"
     ]
    }
   ],
   "source": [
    "print(df['time'].max() - df['time'].min())"
   ]
  },
  {
   "cell_type": "markdown",
   "id": "527fc858-07c7-4657-8559-d0d401feb225",
   "metadata": {},
   "source": [
    "### Split the users, who have shopped through the desktop and mobile versions"
   ]
  },
  {
   "cell_type": "code",
   "execution_count": 3,
   "id": "a49fcf78-3513-4aaf-a5cb-73462a0e388a",
   "metadata": {},
   "outputs": [],
   "source": [
    "df_desktop = df[df[\"site_version\"] == \"desktop\"]\n",
    "df_mobile = df[df[\"site_version\"] == \"mobile\"]\n",
    "df_desktop.drop(['site_version'], axis=1, inplace=True)\n",
    "df_mobile.drop(['site_version'], axis=1, inplace=True)"
   ]
  },
  {
   "cell_type": "markdown",
   "id": "bda12f96-107e-4416-9509-1fa1bf7c05b2",
   "metadata": {},
   "source": [
    "### Add some informative columns, refactor the data"
   ]
  },
  {
   "cell_type": "code",
   "execution_count": 4,
   "id": "0e059b10-8a9f-431c-8ace-409f03e05f9e",
   "metadata": {},
   "outputs": [],
   "source": [
    "df_desktop['clicked_company'] = np.where((df_desktop['title'] == 'banner_click') & (df_desktop['product'] == 'company'), 1, 0)\n",
    "df_desktop['clicked_company'] = df_desktop.groupby('user')['clicked_company'].transform(max)\n",
    "df_mobile['clicked_company'] = np.where((df_mobile['title'] == 'banner_click') & (df_mobile['product'] == 'company'), 1, 0)\n",
    "df_mobile['clicked_company'] = df_mobile.groupby('user')['clicked_company'].transform(max)\n",
    "\n",
    "df_desktop['ordered'] = np.where((df_desktop['order_id'].isna()), 0, 1)\n",
    "df_desktop['ordered'] = df_desktop.groupby('user')['ordered'].transform(max)\n",
    "df_desktop['clicked_nordered'] = np.where(((df_desktop['ordered'] == 0) & (df_desktop['title'] == 'banner_click')), 1, 0)\n",
    "df_desktop['clicked_nordered'] = df_desktop.groupby('user')['clicked_nordered'].transform(max)\n",
    "\n",
    "df_mobile['ordered'] = np.where((df_mobile['order_id'].isna()), 0, 1)\n",
    "df_mobile['ordered'] = df_mobile.groupby('user')['ordered'].transform(max)\n",
    "df_mobile['clicked_nordered'] = np.where(((df_mobile['ordered'] == 0) & (df_mobile['title'] == 'banner_click')), 1, 0)\n",
    "df_mobile['clicked_nordered'] = df_mobile.groupby('user')['clicked_nordered'].transform(max)\n",
    "\n",
    "df_desktop_company_click = df_desktop[df_desktop['clicked_company'] == 1]\n",
    "df_desktop_other_users = df_desktop[df_desktop['clicked_company'] == 0]\n",
    "df_mobile_company_click = df_mobile[df_mobile['clicked_company'] == 1]\n",
    "df_mobile_other_users = df_mobile[df_mobile['clicked_company'] == 0]\n",
    "\n",
    "df.drop(['page_id', 'order_id'], axis=1, inplace=True)"
   ]
  },
  {
   "cell_type": "markdown",
   "id": "19b3aab7-cc81-4a58-99e1-337883e8fbf5",
   "metadata": {},
   "source": [
    "### Convertion with target action of order"
   ]
  },
  {
   "cell_type": "code",
   "execution_count": 5,
   "id": "35526537-049b-4540-8c7e-fd380fb246c7",
   "metadata": {},
   "outputs": [
    {
     "name": "stdout",
     "output_type": "stream",
     "text": [
      "Desktop Conversion with a target action of order: 5.26%\n",
      "Mobile Conversion with a target action of order: 1.85%\n",
      "Desktop orders : 71238.60\n",
      "Mobile orders : 57143.78\n"
     ]
    }
   ],
   "source": [
    "pt_desktop_ordered = df_desktop.pivot_table(index=['user'], values='ordered', aggfunc='sum')\n",
    "valid_desktop_user_ordered = pt_desktop_ordered[pt_desktop_ordered['ordered'] > 0].index\n",
    "count_desktop_orders = len(pt_desktop_ordered.loc[valid_desktop_user_ordered])\n",
    "\n",
    "pt_mobile_ordered = df_mobile.pivot_table(index=['user'], values='ordered', aggfunc='sum')\n",
    "valid_mobile_user_ordered = pt_mobile_ordered[pt_mobile_ordered['ordered'] > 0].index\n",
    "count_mobile_orders = len(pt_mobile_ordered.loc[valid_mobile_user_ordered])\n",
    "\n",
    "print(\"Desktop Conversion with a target action of order: {:.2f}%\".format(count_desktop_orders / len(df_desktop) * 100))\n",
    "print(\"Mobile Conversion with a target action of order: {:.2f}%\".format(count_mobile_orders / len(df_mobile) * 100))\n",
    "print(\"Desktop orders : {:.2f}\".format(df_desktop['user'].nunique() * np.round(count_desktop_orders / len(df_desktop), 2)))\n",
    "print(\"Mobile orders : {:.2f}\".format(df_mobile['user'].nunique() * np.round(count_mobile_orders / len(df_mobile), 2)))"
   ]
  },
  {
   "cell_type": "markdown",
   "id": "7875154d-91c7-4f3d-a15f-9b4e022991d0",
   "metadata": {},
   "source": [
    "### Convertion with target action of clicking, but not buying"
   ]
  },
  {
   "cell_type": "code",
   "execution_count": 6,
   "id": "7fe5db3f-77fd-4be0-8ee4-42e83d25904f",
   "metadata": {},
   "outputs": [],
   "source": [
    "pt_desktop_clicked_nordered = df_desktop.pivot_table(index=['user'], values='clicked_nordered', aggfunc='sum')\n",
    "pt_desktop_clicked_lordered = df_desktop.pivot_table(index=['user', 'product'], columns='title', values='time', aggfunc='min')\n",
    "\n",
    "#clicked on the banner & not ordered\n",
    "valid_user_desktop_cno = (pt_desktop_clicked_nordered[pt_desktop_clicked_nordered['clicked_nordered'] > 0].index.get_level_values('user')).to_list()\n",
    "#clicked on the banner only after they have already made an order\n",
    "valid_user_desktop_clo = (pt_desktop_clicked_lordered[pt_desktop_clicked_lordered['banner_click'] > pt_desktop_clicked_lordered['order']].index.get_level_values('user')).to_list()\n",
    "\n",
    "union_desktop = list(dict.fromkeys(valid_user_desktop_cno + valid_user_desktop_clo))\n",
    "\n",
    "pt_mobile_clicked_nordered = df_mobile.pivot_table(index=['user'], values='clicked_nordered', aggfunc='sum')\n",
    "pt_mobile_clicked_lordered = df_mobile.pivot_table(index=['user', 'product'], columns='title', values='time', aggfunc='min')\n",
    "\n",
    "valid_user_mobile_cno = (pt_mobile_clicked_nordered[pt_mobile_clicked_nordered['clicked_nordered'] > 0].index.get_level_values('user')).to_list()\n",
    "valid_user_mobile_clo = (pt_mobile_clicked_lordered[pt_mobile_clicked_lordered['banner_click'] > pt_mobile_clicked_lordered['order']].index.get_level_values('user')).to_list()\n",
    "\n",
    "union_mobile = list(dict.fromkeys(valid_user_mobile_cno + valid_user_mobile_clo))"
   ]
  },
  {
   "cell_type": "markdown",
   "id": "1924ff39-3d1d-4371-8de1-3659c94b59a5",
   "metadata": {},
   "source": [
    "### Convertion with target action of order after the banner click"
   ]
  },
  {
   "cell_type": "code",
   "execution_count": 7,
   "id": "1128af36-77a9-4b9f-9ca5-2d80de6f8ac4",
   "metadata": {},
   "outputs": [
    {
     "name": "stdout",
     "output_type": "stream",
     "text": [
      "Desktop Conversion with a target action of clicking: 3.7911%\n",
      "Mobile Conversion with a target action of clicking: 9.6231%\n",
      "Desktop Conversion with a target action of clicking & buying: 0.2776%\n",
      "Mobile Conversion with a target action of clicking & buying: 0.4017%\n"
     ]
    }
   ],
   "source": [
    "# those with the banner clicked before the order, haven't clicked on a company banner - desktop\n",
    "pt_desktop_nclicked = df_desktop_other_users.pivot_table(index=['user', 'product'], columns='title', values='time', aggfunc='min')\n",
    "valid_user_desktop_nclicked = pt_desktop_nclicked[pt_desktop_nclicked['banner_click'] < pt_desktop_nclicked['order']].index\n",
    "num_partitions_desktop_nclicked = len(pt_desktop_nclicked.loc[valid_user_desktop_nclicked])\n",
    "\n",
    "# those with the banner clicked before the order, have clicked on a company banner - desktop\n",
    "pt_desktop_clicked = df_desktop_company_click.pivot_table(index=['user'], columns='title', values='time', aggfunc='min')\n",
    "valid_user_desktop_clicked = pt_desktop_clicked[pt_desktop_clicked['banner_click'] < pt_desktop_clicked['order']].index\n",
    "num_partitions_desktop_nclicked += len(pt_desktop_clicked.loc[valid_user_desktop_clicked])\n",
    "\n",
    "# those with the banner clicked before the order, haven't clicked on a company banner - mobile\n",
    "pt_mobile_nclicked = df_mobile_other_users.pivot_table(index=['user', 'product'], columns='title', values='time', aggfunc='min')\n",
    "valid_user_mobile_nclicked = pt_mobile_nclicked[pt_mobile_nclicked['banner_click'] < pt_mobile_nclicked['order']].index\n",
    "num_partitions_mobile_nclicked = len(pt_mobile_nclicked.loc[valid_user_mobile_nclicked])\n",
    "\n",
    "# those with the banner clicked before the order, have clicked on a company banner - mobile\n",
    "pt_mobile_clicked = df_mobile_company_click.pivot_table(index=['user'], columns='title', values='time', aggfunc='min')\n",
    "valid_user_mobile_clicked = pt_mobile_clicked[pt_mobile_clicked['banner_click'] < pt_mobile_clicked['order']].index\n",
    "num_partitions_mobile_nclicked += len(pt_mobile_clicked.loc[valid_user_mobile_clicked])\n",
    "\n",
    "print(\"Desktop Conversion with a target action of clicking: {:.4f}%\".format(len(union_desktop)/len(df_desktop) * 100 + num_partitions_mobile_nclicked/len(df_mobile) * 100))\n",
    "print(\"Mobile Conversion with a target action of clicking: {:.4f}%\".format(len(union_mobile)/len(df_mobile) * 100 + num_partitions_desktop_nclicked/len(df_desktop) * 100))\n",
    "print(\"Desktop Conversion with a target action of clicking & buying: {:.4f}%\".format(num_partitions_mobile_nclicked/len(df_mobile) * 100))\n",
    "print(\"Mobile Conversion with a target action of clicking & buying: {:.4f}%\".format(num_partitions_desktop_nclicked/len(df_desktop) * 100))"
   ]
  },
  {
   "cell_type": "markdown",
   "id": "23d26296-92c8-4f01-9a4c-65bf450223f9",
   "metadata": {},
   "source": [
    "### Example of one user partition"
   ]
  },
  {
   "cell_type": "code",
   "execution_count": 8,
   "id": "f00fa5a4-f5fa-4f41-a67c-cb5b17e462d1",
   "metadata": {},
   "outputs": [
    {
     "data": {
      "text/html": [
       "<div>\n",
       "<style scoped>\n",
       "    .dataframe tbody tr th:only-of-type {\n",
       "        vertical-align: middle;\n",
       "    }\n",
       "\n",
       "    .dataframe tbody tr th {\n",
       "        vertical-align: top;\n",
       "    }\n",
       "\n",
       "    .dataframe thead th {\n",
       "        text-align: right;\n",
       "    }\n",
       "</style>\n",
       "<table border=\"1\" class=\"dataframe\">\n",
       "  <thead>\n",
       "    <tr style=\"text-align: right;\">\n",
       "      <th></th>\n",
       "      <th>order_id</th>\n",
       "      <th>page_id</th>\n",
       "      <th>product</th>\n",
       "      <th>time</th>\n",
       "      <th>title</th>\n",
       "      <th>user</th>\n",
       "      <th>clicked_company</th>\n",
       "      <th>ordered</th>\n",
       "      <th>clicked_nordered</th>\n",
       "    </tr>\n",
       "  </thead>\n",
       "  <tbody>\n",
       "    <tr>\n",
       "      <th>2286106</th>\n",
       "      <td>NaN</td>\n",
       "      <td>5253780.0</td>\n",
       "      <td>accessories</td>\n",
       "      <td>2017-01-12 17:48:24</td>\n",
       "      <td>banner_show</td>\n",
       "      <td>user_1000698</td>\n",
       "      <td>0</td>\n",
       "      <td>0</td>\n",
       "      <td>1</td>\n",
       "    </tr>\n",
       "    <tr>\n",
       "      <th>2286107</th>\n",
       "      <td>NaN</td>\n",
       "      <td>8711274.0</td>\n",
       "      <td>clothes</td>\n",
       "      <td>2017-03-22 02:22:09</td>\n",
       "      <td>banner_show</td>\n",
       "      <td>user_1000698</td>\n",
       "      <td>0</td>\n",
       "      <td>0</td>\n",
       "      <td>1</td>\n",
       "    </tr>\n",
       "    <tr>\n",
       "      <th>2286108</th>\n",
       "      <td>NaN</td>\n",
       "      <td>15762622.0</td>\n",
       "      <td>clothes</td>\n",
       "      <td>2017-04-07 07:09:42</td>\n",
       "      <td>banner_show</td>\n",
       "      <td>user_1000698</td>\n",
       "      <td>0</td>\n",
       "      <td>0</td>\n",
       "      <td>1</td>\n",
       "    </tr>\n",
       "    <tr>\n",
       "      <th>2286109</th>\n",
       "      <td>NaN</td>\n",
       "      <td>15762622.0</td>\n",
       "      <td>clothes</td>\n",
       "      <td>2017-04-07 07:11:10</td>\n",
       "      <td>banner_click</td>\n",
       "      <td>user_1000698</td>\n",
       "      <td>0</td>\n",
       "      <td>0</td>\n",
       "      <td>1</td>\n",
       "    </tr>\n",
       "  </tbody>\n",
       "</table>\n",
       "</div>"
      ],
      "text/plain": [
       "         order_id     page_id      product                time         title  \\\n",
       "2286106       NaN   5253780.0  accessories 2017-01-12 17:48:24   banner_show   \n",
       "2286107       NaN   8711274.0      clothes 2017-03-22 02:22:09   banner_show   \n",
       "2286108       NaN  15762622.0      clothes 2017-04-07 07:09:42   banner_show   \n",
       "2286109       NaN  15762622.0      clothes 2017-04-07 07:11:10  banner_click   \n",
       "\n",
       "                 user  clicked_company  ordered  clicked_nordered  \n",
       "2286106  user_1000698                0        0                 1  \n",
       "2286107  user_1000698                0        0                 1  \n",
       "2286108  user_1000698                0        0                 1  \n",
       "2286109  user_1000698                0        0                 1  "
      ]
     },
     "execution_count": 8,
     "metadata": {},
     "output_type": "execute_result"
    }
   ],
   "source": [
    "df_desktop[df_desktop['user'] == 'user_1000698']"
   ]
  },
  {
   "cell_type": "code",
   "execution_count": 9,
   "id": "bbd1d38e-04d6-4d67-a56b-5376da055939",
   "metadata": {},
   "outputs": [
    {
     "name": "stdout",
     "output_type": "stream",
     "text": [
      "We risk to loose: 51429 mobile clients\n",
      "We risk to loose: 75513 desktop clients\n",
      "In summary the lower bound would be: 126942 clients\n"
     ]
    }
   ],
   "source": [
    "mobile = df_mobile['user'].nunique() * np.round(count_mobile_orders / len(df_mobile), 3)\n",
    "desktop = df_desktop['user'].nunique() * np.round(count_desktop_orders / len(df_desktop), 3)\n",
    "print(\"We risk to loose: {:.0f} mobile clients\".format(mobile))\n",
    "print(\"We risk to loose: {:.0f} desktop clients\".format(desktop))\n",
    "print(\"In summary the lower bound would be: {:.0f} clients\".format(desktop+mobile))"
   ]
  },
  {
   "cell_type": "code",
   "execution_count": 10,
   "id": "ad8bbced-ba61-4119-9490-5478c5a9dad2",
   "metadata": {},
   "outputs": [
    {
     "name": "stdout",
     "output_type": "stream",
     "text": [
      "Users in desktop version 1424772\n",
      "Users in mobile version 2857189\n"
     ]
    }
   ],
   "source": [
    "a = df_desktop['user'].nunique()\n",
    "b = df_mobile['user'].nunique()\n",
    "print(f'Users in desktop version {a}')\n",
    "print(f'Users in mobile version {b}')"
   ]
  },
  {
   "cell_type": "code",
   "execution_count": null,
   "id": "794d1e53-57af-4ae3-92ac-964f3ce0abfc",
   "metadata": {},
   "outputs": [],
   "source": []
  }
 ],
 "metadata": {
  "kernelspec": {
   "display_name": "Python 3 (ipykernel)",
   "language": "python",
   "name": "python3"
  },
  "language_info": {
   "codemirror_mode": {
    "name": "ipython",
    "version": 3
   },
   "file_extension": ".py",
   "mimetype": "text/x-python",
   "name": "python",
   "nbconvert_exporter": "python",
   "pygments_lexer": "ipython3",
   "version": "3.10.12"
  }
 },
 "nbformat": 4,
 "nbformat_minor": 5
}
